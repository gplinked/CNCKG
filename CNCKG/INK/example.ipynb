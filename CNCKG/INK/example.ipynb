{
 "cells": [
  {
   "cell_type": "markdown",
   "metadata": {
    "collapsed": true,
    "pycharm": {
     "name": "#%% md\n"
    }
   },
   "source": [
    "# INK: explanatory notebook"
   ]
  },
  {
   "cell_type": "markdown",
   "metadata": {
    "pycharm": {
     "name": "#%% md\n"
    }
   },
   "source": [
    "Within this notebook, we give a simple example of how the INK library can be used to extract the neighbourhood of certain subjects of interest.<br>\n",
    "We also show the mining capabilities for both task specific and task agnostic cases.\n"
   ]
  },
  {
   "cell_type": "markdown",
   "metadata": {},
   "source": [
    "The example dataset can be found in the /datasets folder.<br>\n",
    "We have used the common known animal dataset, describing several animals with their properties."
   ]
  },
  {
   "cell_type": "code",
   "execution_count": 1,
   "metadata": {
    "pycharm": {
     "name": "#%%\n"
    }
   },
   "outputs": [],
   "source": [
    "from ink.base.connectors import RDFLibConnector\n",
    "from ink.base.structure import InkExtractor\n",
    "from ink.miner.rulemining import RuleSetMiner"
   ]
  },
  {
   "cell_type": "markdown",
   "metadata": {
    "pycharm": {
     "name": "#%% md\n"
    }
   },
   "source": [
    "To start, three different packages are loaded.\n",
    "* A connector: which is used to load the original dataset.\n",
    "Here we have used an RDFLib connector, but other connectors are available.\n",
    "* The INK extractor, which will transform the neighbourhood of certain nodes into a binary representation.\n",
    "* The Rule Set Miner, which is our rule mining module."
   ]
  },
  {
   "cell_type": "markdown",
   "metadata": {
    "pycharm": {
     "name": "#%% md\n"
    }
   },
   "source": [
    "### 1. create connector"
   ]
  },
  {
   "cell_type": "code",
   "execution_count": 2,
   "metadata": {
    "pycharm": {
     "name": "#%%\n"
    }
   },
   "outputs": [],
   "source": [
    "connector = RDFLibConnector('ink/datasets/animals.owl', 'xml')"
   ]
  },
  {
   "cell_type": "markdown",
   "metadata": {},
   "source": [
    "The RDLib connector simply requires the filename of the KG to be loaded and the accompanied formatting file.<br>\n",
    "Querying will be the most important function within such a connector. SPARQL queries can be executed as follows:"
   ]
  },
  {
   "cell_type": "code",
   "execution_count": 3,
   "metadata": {
    "pycharm": {
     "name": "#%%\n"
    }
   },
   "outputs": [
    {
     "data": {
      "text/plain": [
       "[{'s': {'type': 'uri',\n",
       "   'value': 'http://dl-learner.org/benchmark/dataset/animals#trex01'}}]"
      ]
     },
     "execution_count": 3,
     "metadata": {},
     "output_type": "execute_result"
    }
   ],
   "source": [
    "connector.query(\"Select ?s where {?s a <http://dl-learner.org/benchmark/dataset/animals/T-Rex>.}\")"
   ]
  },
  {
   "cell_type": "markdown",
   "metadata": {
    "pycharm": {
     "name": "#%% md\n"
    }
   },
   "source": [
    "### 2. create the extractor\n",
    "INK extractor takes a connector as argument. We also provide a list of prefixes."
   ]
  },
  {
   "cell_type": "code",
   "execution_count": 4,
   "metadata": {
    "pycharm": {
     "name": "#%%\n"
    }
   },
   "outputs": [],
   "source": [
    "prefix={\n",
    "    \"http://www.w3.org/1999/02/22-rdf-syntax-ns#\": \"rdf#\",\n",
    "    \"http://www.w3.org/2000/01/rdf-schema#\": \"rdfs#\",\n",
    "    \"http://www.w3.org/2002/07/owl#\": \"owl#\",\n",
    "    \"http://dl-learner.org/benchmark/dataset/animals/\": \"animals/\"\n",
    "}\n",
    "extractor = InkExtractor(connector, prefixes=prefix)"
   ]
  },
  {
   "cell_type": "markdown",
   "metadata": {
    "pycharm": {
     "name": "#%% md\n"
    }
   },
   "source": [
    "### 3. create the rule miner\n",
    "All arguments are optinal here, take a look at the documentation for morre information and how they influence the mining capabilities."
   ]
  },
  {
   "cell_type": "code",
   "execution_count": 5,
   "metadata": {
    "pycharm": {
     "name": "#%%\n"
    }
   },
   "outputs": [],
   "source": [
    "miner = RuleSetMiner(chains=100,max_len_rule_set=3, forest_size=10)"
   ]
  },
  {
   "cell_type": "markdown",
   "metadata": {
    "pycharm": {
     "name": "#%% md\n"
    }
   },
   "source": [
    "## <ins>Task specific rule mining</ins>\n",
    "We define two different sets of animals:\n",
    "* one containing only mammals\n",
    "* non mammals in the other set"
   ]
  },
  {
   "cell_type": "code",
   "execution_count": 6,
   "metadata": {
    "pycharm": {
     "name": "#%%\n"
    }
   },
   "outputs": [],
   "source": [
    "pos = set([ \"http://dl-learner.org/benchmark/dataset/animals#dog01\",\n",
    "            \"http://dl-learner.org/benchmark/dataset/animals#dolphin01\",\n",
    "            \"http://dl-learner.org/benchmark/dataset/animals#platypus01\",\n",
    "            \"http://dl-learner.org/benchmark/dataset/animals#bat01\"])\n",
    "\n",
    "neg = set([\"http://dl-learner.org/benchmark/dataset/animals#trout01\",\n",
    "            \"http://dl-learner.org/benchmark/dataset/animals#herring01\",\n",
    "            \"http://dl-learner.org/benchmark/dataset/animals#shark01\",\n",
    "            \"http://dl-learner.org/benchmark/dataset/animals#lizard01\",\n",
    "            \"http://dl-learner.org/benchmark/dataset/animals#croco01\",\n",
    "            \"http://dl-learner.org/benchmark/dataset/animals#trex01\",\n",
    "            \"http://dl-learner.org/benchmark/dataset/animals#turtle01\",\n",
    "            \"http://dl-learner.org/benchmark/dataset/animals#eagle01\",\n",
    "            \"http://dl-learner.org/benchmark/dataset/animals#ostrich01\",\n",
    "            \"http://dl-learner.org/benchmark/dataset/animals#penguin01\"])"
   ]
  },
  {
   "cell_type": "markdown",
   "metadata": {
    "pycharm": {
     "name": "#%% md\n"
    }
   },
   "source": [
    "The goal for ink is to learn a rule to seperate the pos set (mammals) from the negative set (non mammals).\n",
    "First: we extract the neighbourhoods until a certain depth of both the nodes in the pos set and neg set."
   ]
  },
  {
   "cell_type": "code",
   "execution_count": 7,
   "metadata": {
    "pycharm": {
     "name": "#%%\n"
    }
   },
   "outputs": [],
   "source": [
    "X_train, y_train = extractor.create_dataset(4, pos, neg, jobs=4)"
   ]
  },
  {
   "cell_type": "markdown",
   "metadata": {
    "pycharm": {
     "name": "#%% md\n"
    }
   },
   "source": [
    "X_train stores the neighbourhood of each node inside the pos set and neg set as a dictionary of (predicate,object) values.<br>\n",
    "An example animal is given below:"
   ]
  },
  {
   "cell_type": "code",
   "execution_count": 8,
   "metadata": {
    "pycharm": {
     "name": "#%%\n"
    }
   },
   "outputs": [
    {
     "name": "stdout",
     "output_type": "stream",
     "text": [
      "animal: http://dl-learner.org/benchmark/dataset/animals#penguin01\n",
      "relation: rdf#type\n",
      "objects: ['animals/Penguin', 'owl#NamedIndividual']\n",
      "relation: rdf#type.rdfs#subClassOf\n",
      "objects: ['N1319a72957e34f7e858ecded1c8131b2', 'Neacb0a4fc914498abe3ca6174aeffa68', 'animals/Homeothermic', 'animals/Animal', 'N964bdc9614854844aba1bf9b44671ea7', 'animals/HasEggs']\n",
      "relation: rdf#type.rdf#type\n",
      "objects: ['owl#Class']\n",
      "relation: rdf#type.rdfs#subClassOf.rdfs#subClassOf\n",
      "objects: ['animals/Animal', 'animals/Animal']\n",
      "relation: rdf#type.rdfs#subClassOf.rdf#type\n",
      "objects: ['owl#Class', 'owl#Class', 'owl#Class']\n",
      "relation: rdf#type.rdfs#subClassOf.rdfs#subClassOf.rdf#type\n",
      "objects: ['owl#Class', 'owl#Class']\n"
     ]
    }
   ],
   "source": [
    "print(\"animal:\", X_train[0][0])\n",
    "for x in X_train[0][1]:\n",
    "    print(\"relation:\",x)\n",
    "    print(\"objects:\",X_train[0][1][x])"
   ]
  },
  {
   "cell_type": "markdown",
   "metadata": {
    "pycharm": {
     "name": "#%% md\n"
    }
   },
   "source": [
    "y_train contains the class vector indicating to which group each animal belongs."
   ]
  },
  {
   "cell_type": "code",
   "execution_count": 9,
   "metadata": {
    "pycharm": {
     "name": "#%%\n"
    }
   },
   "outputs": [
    {
     "data": {
      "text/plain": [
       "array([0, 0, 0, 0, 1, 0, 0, 1, 0, 0, 1, 0, 1, 0])"
      ]
     },
     "execution_count": 9,
     "metadata": {},
     "output_type": "execute_result"
    }
   ],
   "source": [
    "y_train"
   ]
  },
  {
   "cell_type": "markdown",
   "metadata": {
    "pycharm": {
     "name": "#%% md\n"
    }
   },
   "source": [
    "Next, we contruct from these dictionaries the binary INK representation\n"
   ]
  },
  {
   "cell_type": "code",
   "execution_count": 10,
   "metadata": {
    "pycharm": {
     "name": "#%%\n"
    }
   },
   "outputs": [],
   "source": [
    "X_train = extractor.fit_transform(X_train, counts=True, levels=True)"
   ]
  },
  {
   "cell_type": "markdown",
   "metadata": {
    "pycharm": {
     "name": "#%% md\n"
    }
   },
   "source": [
    "The counts and levels modules were enabled. These modules are responsible for 1) counting the number of available objects related to a subject and 2) add additional values for > and < relations when all objects are numbers.\n",
    "<br>\n",
    "The transformed X_train variable is a tuple consisting of 3 parts:\n",
    "* a sparse boolean matrix\n",
    "* a list of indices (here the uri's to the animals)\n",
    "* a list of column values\n",
    "\n",
    "This X_train tuple can be transformed into a pandas dataframe:"
   ]
  },
  {
   "cell_type": "code",
   "execution_count": 11,
   "metadata": {
    "pycharm": {
     "name": "#%%\n"
    }
   },
   "outputs": [
    {
     "data": {
      "text/html": [
       "<div>\n",
       "<style scoped>\n",
       "    .dataframe tbody tr th:only-of-type {\n",
       "        vertical-align: middle;\n",
       "    }\n",
       "\n",
       "    .dataframe tbody tr th {\n",
       "        vertical-align: top;\n",
       "    }\n",
       "\n",
       "    .dataframe thead th {\n",
       "        text-align: right;\n",
       "    }\n",
       "</style>\n",
       "<table border=\"1\" class=\"dataframe\">\n",
       "  <thead>\n",
       "    <tr style=\"text-align: right;\">\n",
       "      <th></th>\n",
       "      <th>count.rdf#type</th>\n",
       "      <th>count.rdf#type.rdfs#subClassOf</th>\n",
       "      <th>count.rdf#type.rdfs#subClassOf.rdf#type</th>\n",
       "      <th>count.rdf#type.rdfs#subClassOf.rdf#type.owl#Class</th>\n",
       "      <th>count.rdf#type.rdfs#subClassOf.rdf#type.owl#Class&lt;=2</th>\n",
       "      <th>count.rdf#type.rdfs#subClassOf.rdf#type.owl#Class&lt;=3</th>\n",
       "      <th>count.rdf#type.rdfs#subClassOf.rdf#type.owl#Class&lt;=4</th>\n",
       "      <th>count.rdf#type.rdfs#subClassOf.rdf#type.owl#Class&gt;=2</th>\n",
       "      <th>count.rdf#type.rdfs#subClassOf.rdf#type.owl#Class&gt;=3</th>\n",
       "      <th>count.rdf#type.rdfs#subClassOf.rdf#type.owl#Class&gt;=4</th>\n",
       "      <th>...</th>\n",
       "      <th>rdf#type§animals/Herring</th>\n",
       "      <th>rdf#type§animals/Lizard</th>\n",
       "      <th>rdf#type§animals/Ostrich</th>\n",
       "      <th>rdf#type§animals/Penguin</th>\n",
       "      <th>rdf#type§animals/Platypus</th>\n",
       "      <th>rdf#type§animals/Shark</th>\n",
       "      <th>rdf#type§animals/T-Rex</th>\n",
       "      <th>rdf#type§animals/Trout</th>\n",
       "      <th>rdf#type§animals/Turtle</th>\n",
       "      <th>rdf#type§owl#NamedIndividual</th>\n",
       "    </tr>\n",
       "  </thead>\n",
       "  <tbody>\n",
       "    <tr>\n",
       "      <th>http://dl-learner.org/benchmark/dataset/animals#penguin01</th>\n",
       "      <td>True</td>\n",
       "      <td>True</td>\n",
       "      <td>True</td>\n",
       "      <td>True</td>\n",
       "      <td>0</td>\n",
       "      <td>True</td>\n",
       "      <td>True</td>\n",
       "      <td>True</td>\n",
       "      <td>True</td>\n",
       "      <td>0</td>\n",
       "      <td>...</td>\n",
       "      <td>0</td>\n",
       "      <td>0</td>\n",
       "      <td>0</td>\n",
       "      <td>1</td>\n",
       "      <td>0</td>\n",
       "      <td>0</td>\n",
       "      <td>0</td>\n",
       "      <td>0</td>\n",
       "      <td>0</td>\n",
       "      <td>True</td>\n",
       "    </tr>\n",
       "    <tr>\n",
       "      <th>http://dl-learner.org/benchmark/dataset/animals#eagle01</th>\n",
       "      <td>True</td>\n",
       "      <td>True</td>\n",
       "      <td>True</td>\n",
       "      <td>True</td>\n",
       "      <td>0</td>\n",
       "      <td>True</td>\n",
       "      <td>True</td>\n",
       "      <td>True</td>\n",
       "      <td>True</td>\n",
       "      <td>0</td>\n",
       "      <td>...</td>\n",
       "      <td>0</td>\n",
       "      <td>0</td>\n",
       "      <td>0</td>\n",
       "      <td>0</td>\n",
       "      <td>0</td>\n",
       "      <td>0</td>\n",
       "      <td>0</td>\n",
       "      <td>0</td>\n",
       "      <td>0</td>\n",
       "      <td>True</td>\n",
       "    </tr>\n",
       "    <tr>\n",
       "      <th>http://dl-learner.org/benchmark/dataset/animals#trout01</th>\n",
       "      <td>True</td>\n",
       "      <td>True</td>\n",
       "      <td>True</td>\n",
       "      <td>True</td>\n",
       "      <td>0</td>\n",
       "      <td>True</td>\n",
       "      <td>True</td>\n",
       "      <td>True</td>\n",
       "      <td>True</td>\n",
       "      <td>0</td>\n",
       "      <td>...</td>\n",
       "      <td>0</td>\n",
       "      <td>0</td>\n",
       "      <td>0</td>\n",
       "      <td>0</td>\n",
       "      <td>0</td>\n",
       "      <td>0</td>\n",
       "      <td>0</td>\n",
       "      <td>1</td>\n",
       "      <td>0</td>\n",
       "      <td>True</td>\n",
       "    </tr>\n",
       "    <tr>\n",
       "      <th>http://dl-learner.org/benchmark/dataset/animals#shark01</th>\n",
       "      <td>True</td>\n",
       "      <td>True</td>\n",
       "      <td>True</td>\n",
       "      <td>True</td>\n",
       "      <td>0</td>\n",
       "      <td>True</td>\n",
       "      <td>True</td>\n",
       "      <td>True</td>\n",
       "      <td>True</td>\n",
       "      <td>0</td>\n",
       "      <td>...</td>\n",
       "      <td>0</td>\n",
       "      <td>0</td>\n",
       "      <td>0</td>\n",
       "      <td>0</td>\n",
       "      <td>0</td>\n",
       "      <td>1</td>\n",
       "      <td>0</td>\n",
       "      <td>0</td>\n",
       "      <td>0</td>\n",
       "      <td>True</td>\n",
       "    </tr>\n",
       "    <tr>\n",
       "      <th>http://dl-learner.org/benchmark/dataset/animals#bat01</th>\n",
       "      <td>True</td>\n",
       "      <td>True</td>\n",
       "      <td>True</td>\n",
       "      <td>True</td>\n",
       "      <td>0</td>\n",
       "      <td>True</td>\n",
       "      <td>True</td>\n",
       "      <td>True</td>\n",
       "      <td>True</td>\n",
       "      <td>0</td>\n",
       "      <td>...</td>\n",
       "      <td>0</td>\n",
       "      <td>0</td>\n",
       "      <td>0</td>\n",
       "      <td>0</td>\n",
       "      <td>0</td>\n",
       "      <td>0</td>\n",
       "      <td>0</td>\n",
       "      <td>0</td>\n",
       "      <td>0</td>\n",
       "      <td>True</td>\n",
       "    </tr>\n",
       "  </tbody>\n",
       "</table>\n",
       "<p>5 rows × 164 columns</p>\n",
       "</div>"
      ],
      "text/plain": [
       "                                                    count.rdf#type  \\\n",
       "http://dl-learner.org/benchmark/dataset/animals...            True   \n",
       "http://dl-learner.org/benchmark/dataset/animals...            True   \n",
       "http://dl-learner.org/benchmark/dataset/animals...            True   \n",
       "http://dl-learner.org/benchmark/dataset/animals...            True   \n",
       "http://dl-learner.org/benchmark/dataset/animals...            True   \n",
       "\n",
       "                                                    count.rdf#type.rdfs#subClassOf  \\\n",
       "http://dl-learner.org/benchmark/dataset/animals...                            True   \n",
       "http://dl-learner.org/benchmark/dataset/animals...                            True   \n",
       "http://dl-learner.org/benchmark/dataset/animals...                            True   \n",
       "http://dl-learner.org/benchmark/dataset/animals...                            True   \n",
       "http://dl-learner.org/benchmark/dataset/animals...                            True   \n",
       "\n",
       "                                                    count.rdf#type.rdfs#subClassOf.rdf#type  \\\n",
       "http://dl-learner.org/benchmark/dataset/animals...                                     True   \n",
       "http://dl-learner.org/benchmark/dataset/animals...                                     True   \n",
       "http://dl-learner.org/benchmark/dataset/animals...                                     True   \n",
       "http://dl-learner.org/benchmark/dataset/animals...                                     True   \n",
       "http://dl-learner.org/benchmark/dataset/animals...                                     True   \n",
       "\n",
       "                                                    count.rdf#type.rdfs#subClassOf.rdf#type.owl#Class  \\\n",
       "http://dl-learner.org/benchmark/dataset/animals...                                               True   \n",
       "http://dl-learner.org/benchmark/dataset/animals...                                               True   \n",
       "http://dl-learner.org/benchmark/dataset/animals...                                               True   \n",
       "http://dl-learner.org/benchmark/dataset/animals...                                               True   \n",
       "http://dl-learner.org/benchmark/dataset/animals...                                               True   \n",
       "\n",
       "                                                    count.rdf#type.rdfs#subClassOf.rdf#type.owl#Class<=2  \\\n",
       "http://dl-learner.org/benchmark/dataset/animals...                                                  0      \n",
       "http://dl-learner.org/benchmark/dataset/animals...                                                  0      \n",
       "http://dl-learner.org/benchmark/dataset/animals...                                                  0      \n",
       "http://dl-learner.org/benchmark/dataset/animals...                                                  0      \n",
       "http://dl-learner.org/benchmark/dataset/animals...                                                  0      \n",
       "\n",
       "                                                    count.rdf#type.rdfs#subClassOf.rdf#type.owl#Class<=3  \\\n",
       "http://dl-learner.org/benchmark/dataset/animals...                                               True      \n",
       "http://dl-learner.org/benchmark/dataset/animals...                                               True      \n",
       "http://dl-learner.org/benchmark/dataset/animals...                                               True      \n",
       "http://dl-learner.org/benchmark/dataset/animals...                                               True      \n",
       "http://dl-learner.org/benchmark/dataset/animals...                                               True      \n",
       "\n",
       "                                                    count.rdf#type.rdfs#subClassOf.rdf#type.owl#Class<=4  \\\n",
       "http://dl-learner.org/benchmark/dataset/animals...                                               True      \n",
       "http://dl-learner.org/benchmark/dataset/animals...                                               True      \n",
       "http://dl-learner.org/benchmark/dataset/animals...                                               True      \n",
       "http://dl-learner.org/benchmark/dataset/animals...                                               True      \n",
       "http://dl-learner.org/benchmark/dataset/animals...                                               True      \n",
       "\n",
       "                                                    count.rdf#type.rdfs#subClassOf.rdf#type.owl#Class>=2  \\\n",
       "http://dl-learner.org/benchmark/dataset/animals...                                               True      \n",
       "http://dl-learner.org/benchmark/dataset/animals...                                               True      \n",
       "http://dl-learner.org/benchmark/dataset/animals...                                               True      \n",
       "http://dl-learner.org/benchmark/dataset/animals...                                               True      \n",
       "http://dl-learner.org/benchmark/dataset/animals...                                               True      \n",
       "\n",
       "                                                    count.rdf#type.rdfs#subClassOf.rdf#type.owl#Class>=3  \\\n",
       "http://dl-learner.org/benchmark/dataset/animals...                                               True      \n",
       "http://dl-learner.org/benchmark/dataset/animals...                                               True      \n",
       "http://dl-learner.org/benchmark/dataset/animals...                                               True      \n",
       "http://dl-learner.org/benchmark/dataset/animals...                                               True      \n",
       "http://dl-learner.org/benchmark/dataset/animals...                                               True      \n",
       "\n",
       "                                                    count.rdf#type.rdfs#subClassOf.rdf#type.owl#Class>=4  \\\n",
       "http://dl-learner.org/benchmark/dataset/animals...                                                  0      \n",
       "http://dl-learner.org/benchmark/dataset/animals...                                                  0      \n",
       "http://dl-learner.org/benchmark/dataset/animals...                                                  0      \n",
       "http://dl-learner.org/benchmark/dataset/animals...                                                  0      \n",
       "http://dl-learner.org/benchmark/dataset/animals...                                                  0      \n",
       "\n",
       "                                                    ...  \\\n",
       "http://dl-learner.org/benchmark/dataset/animals...  ...   \n",
       "http://dl-learner.org/benchmark/dataset/animals...  ...   \n",
       "http://dl-learner.org/benchmark/dataset/animals...  ...   \n",
       "http://dl-learner.org/benchmark/dataset/animals...  ...   \n",
       "http://dl-learner.org/benchmark/dataset/animals...  ...   \n",
       "\n",
       "                                                    rdf#type§animals/Herring  \\\n",
       "http://dl-learner.org/benchmark/dataset/animals...                         0   \n",
       "http://dl-learner.org/benchmark/dataset/animals...                         0   \n",
       "http://dl-learner.org/benchmark/dataset/animals...                         0   \n",
       "http://dl-learner.org/benchmark/dataset/animals...                         0   \n",
       "http://dl-learner.org/benchmark/dataset/animals...                         0   \n",
       "\n",
       "                                                    rdf#type§animals/Lizard  \\\n",
       "http://dl-learner.org/benchmark/dataset/animals...                        0   \n",
       "http://dl-learner.org/benchmark/dataset/animals...                        0   \n",
       "http://dl-learner.org/benchmark/dataset/animals...                        0   \n",
       "http://dl-learner.org/benchmark/dataset/animals...                        0   \n",
       "http://dl-learner.org/benchmark/dataset/animals...                        0   \n",
       "\n",
       "                                                    rdf#type§animals/Ostrich  \\\n",
       "http://dl-learner.org/benchmark/dataset/animals...                         0   \n",
       "http://dl-learner.org/benchmark/dataset/animals...                         0   \n",
       "http://dl-learner.org/benchmark/dataset/animals...                         0   \n",
       "http://dl-learner.org/benchmark/dataset/animals...                         0   \n",
       "http://dl-learner.org/benchmark/dataset/animals...                         0   \n",
       "\n",
       "                                                    rdf#type§animals/Penguin  \\\n",
       "http://dl-learner.org/benchmark/dataset/animals...                         1   \n",
       "http://dl-learner.org/benchmark/dataset/animals...                         0   \n",
       "http://dl-learner.org/benchmark/dataset/animals...                         0   \n",
       "http://dl-learner.org/benchmark/dataset/animals...                         0   \n",
       "http://dl-learner.org/benchmark/dataset/animals...                         0   \n",
       "\n",
       "                                                    rdf#type§animals/Platypus  \\\n",
       "http://dl-learner.org/benchmark/dataset/animals...                          0   \n",
       "http://dl-learner.org/benchmark/dataset/animals...                          0   \n",
       "http://dl-learner.org/benchmark/dataset/animals...                          0   \n",
       "http://dl-learner.org/benchmark/dataset/animals...                          0   \n",
       "http://dl-learner.org/benchmark/dataset/animals...                          0   \n",
       "\n",
       "                                                    rdf#type§animals/Shark  \\\n",
       "http://dl-learner.org/benchmark/dataset/animals...                       0   \n",
       "http://dl-learner.org/benchmark/dataset/animals...                       0   \n",
       "http://dl-learner.org/benchmark/dataset/animals...                       0   \n",
       "http://dl-learner.org/benchmark/dataset/animals...                       1   \n",
       "http://dl-learner.org/benchmark/dataset/animals...                       0   \n",
       "\n",
       "                                                    rdf#type§animals/T-Rex  \\\n",
       "http://dl-learner.org/benchmark/dataset/animals...                       0   \n",
       "http://dl-learner.org/benchmark/dataset/animals...                       0   \n",
       "http://dl-learner.org/benchmark/dataset/animals...                       0   \n",
       "http://dl-learner.org/benchmark/dataset/animals...                       0   \n",
       "http://dl-learner.org/benchmark/dataset/animals...                       0   \n",
       "\n",
       "                                                    rdf#type§animals/Trout  \\\n",
       "http://dl-learner.org/benchmark/dataset/animals...                       0   \n",
       "http://dl-learner.org/benchmark/dataset/animals...                       0   \n",
       "http://dl-learner.org/benchmark/dataset/animals...                       1   \n",
       "http://dl-learner.org/benchmark/dataset/animals...                       0   \n",
       "http://dl-learner.org/benchmark/dataset/animals...                       0   \n",
       "\n",
       "                                                    rdf#type§animals/Turtle  \\\n",
       "http://dl-learner.org/benchmark/dataset/animals...                        0   \n",
       "http://dl-learner.org/benchmark/dataset/animals...                        0   \n",
       "http://dl-learner.org/benchmark/dataset/animals...                        0   \n",
       "http://dl-learner.org/benchmark/dataset/animals...                        0   \n",
       "http://dl-learner.org/benchmark/dataset/animals...                        0   \n",
       "\n",
       "                                                    rdf#type§owl#NamedIndividual  \n",
       "http://dl-learner.org/benchmark/dataset/animals...                          True  \n",
       "http://dl-learner.org/benchmark/dataset/animals...                          True  \n",
       "http://dl-learner.org/benchmark/dataset/animals...                          True  \n",
       "http://dl-learner.org/benchmark/dataset/animals...                          True  \n",
       "http://dl-learner.org/benchmark/dataset/animals...                          True  \n",
       "\n",
       "[5 rows x 164 columns]"
      ]
     },
     "execution_count": 11,
     "metadata": {},
     "output_type": "execute_result"
    }
   ],
   "source": [
    "import pandas as pd\n",
    "df_train = pd.DataFrame.sparse.from_spmatrix(X_train[0], index=X_train[1], columns=X_train[2])\n",
    "df_train.head()"
   ]
  },
  {
   "cell_type": "markdown",
   "metadata": {
    "pycharm": {
     "name": "#%% md\n"
    }
   },
   "source": [
    "To mine rules, we can simple provide the X_train tuple to the rule mining module. <br>\n",
    "Together with the labels (y_train), this will rule miner will now try to find a rule to descriminate the pos from the neg set.\n",
    "\n"
   ]
  },
  {
   "cell_type": "code",
   "execution_count": 12,
   "metadata": {
    "pycharm": {
     "name": "#%%\n"
    }
   },
   "outputs": [],
   "source": [
    "acc, rules = miner.fit(X_train, y_train)"
   ]
  },
  {
   "cell_type": "markdown",
   "metadata": {
    "pycharm": {
     "name": "#%% md\n"
    }
   },
   "source": [
    "The output of this miner is both the achieved accuracy and the found rules. <br>\n",
    "We can print the rules as follows:"
   ]
  },
  {
   "cell_type": "code",
   "execution_count": 13,
   "metadata": {
    "pycharm": {
     "name": "#%%\n"
    }
   },
   "outputs": [
    {
     "name": "stdout",
     "output_type": "stream",
     "text": [
      "1.0\n",
      "['rdf#type.rdfs#subClassOf§animals/HasMilk']\n"
     ]
    }
   ],
   "source": [
    "print(acc)\n",
    "miner.print_rules(rules)"
   ]
  },
  {
   "cell_type": "markdown",
   "metadata": {
    "pycharm": {
     "name": "#%% md\n"
    }
   },
   "source": [
    "with 100% accuracy, we can separate the positive class of rules from the negative ones by using the rule above.\n",
    "This rule state that starting from the individual of a certain type ?x which has a subclass ?y with the relation hasMilk is a mammal.\n",
    "\n"
   ]
  },
  {
   "cell_type": "markdown",
   "metadata": {
    "pycharm": {
     "name": "#%% md\n"
    }
   },
   "source": [
    "## <ins>Task agnostic rule mining</ins>\n",
    "\n",
    "A similar setup can be used to mine task agnostic rules. \n",
    "<br>The only difference is that no training labels need to be provided."
   ]
  },
  {
   "cell_type": "markdown",
   "metadata": {
    "pycharm": {
     "name": "#%% md\n"
    }
   },
   "source": [
    "We no define a general SPARQL query to select our nodes of interest:"
   ]
  },
  {
   "cell_type": "code",
   "execution_count": 14,
   "metadata": {
    "pycharm": {
     "name": "#%%\n"
    }
   },
   "outputs": [],
   "source": [
    "query = \"\"\"\n",
    "SELECT ?s WHERE {\n",
    "    ?s a ?o.\n",
    "    ?o rdfs:subClassOf <http://dl-learner.org/benchmark/dataset/animals/Animal>.\n",
    "}\n",
    "\"\"\""
   ]
  },
  {
   "cell_type": "markdown",
   "metadata": {
    "pycharm": {
     "name": "#%% md\n"
    }
   },
   "source": [
    "This query can be used directly in our neighbourhoud extractor."
   ]
  },
  {
   "cell_type": "code",
   "execution_count": 15,
   "metadata": {
    "pycharm": {
     "name": "#%%\n"
    }
   },
   "outputs": [],
   "source": [
    "X_train, _ = extractor.create_dataset(10, query, None)"
   ]
  },
  {
   "cell_type": "markdown",
   "metadata": {
    "pycharm": {
     "name": "#%% md\n"
    }
   },
   "source": [
    "As you can see, we provide no negative set and do not store the y_train values (because they are all positive). <br>\n",
    "Next, we transform these neighbourhoods into the INK binary representation."
   ]
  },
  {
   "cell_type": "code",
   "execution_count": 16,
   "metadata": {
    "pycharm": {
     "name": "#%%\n"
    }
   },
   "outputs": [],
   "source": [
    "X_train = extractor.fit_transform(X_train)"
   ]
  },
  {
   "cell_type": "markdown",
   "metadata": {},
   "source": [
    "X_train can now be used to mine task-agnostic rules. We created"
   ]
  },
  {
   "cell_type": "code",
   "execution_count": 17,
   "metadata": {
    "pycharm": {
     "name": "#%%\n"
    }
   },
   "outputs": [
    {
     "data": {
      "text/html": [
       "<div>\n",
       "<style scoped>\n",
       "    .dataframe tbody tr th:only-of-type {\n",
       "        vertical-align: middle;\n",
       "    }\n",
       "\n",
       "    .dataframe tbody tr th {\n",
       "        vertical-align: top;\n",
       "    }\n",
       "\n",
       "    .dataframe thead th {\n",
       "        text-align: right;\n",
       "    }\n",
       "</style>\n",
       "<table border=\"1\" class=\"dataframe\">\n",
       "  <thead>\n",
       "    <tr style=\"text-align: right;\">\n",
       "      <th></th>\n",
       "      <th>antecedents</th>\n",
       "      <th>consequents</th>\n",
       "      <th>antecedent support</th>\n",
       "      <th>consequent support</th>\n",
       "      <th>support</th>\n",
       "      <th>confidence</th>\n",
       "      <th>lift</th>\n",
       "      <th>leverage</th>\n",
       "      <th>conviction</th>\n",
       "    </tr>\n",
       "  </thead>\n",
       "  <tbody>\n",
       "    <tr>\n",
       "      <th>0</th>\n",
       "      <td>(rdf#type.rdfs#subClassOf.rdf#type)</td>\n",
       "      <td>(rdf#type.rdf#type)</td>\n",
       "      <td>(rdf#type.rdfs#subClassOf.rdf#type)</td>\n",
       "      <td>20.0</td>\n",
       "      <td>20.0</td>\n",
       "      <td>20.0</td>\n",
       "      <td>1.000000</td>\n",
       "      <td>0.050000</td>\n",
       "      <td>-380.0</td>\n",
       "      <td>inf</td>\n",
       "    </tr>\n",
       "    <tr>\n",
       "      <th>1</th>\n",
       "      <td>(rdf#type.rdf#type)</td>\n",
       "      <td>20.0</td>\n",
       "      <td>20.0</td>\n",
       "      <td>20.0</td>\n",
       "      <td>1.000000</td>\n",
       "      <td>0.050000</td>\n",
       "      <td>-380.0</td>\n",
       "      <td>inf</td>\n",
       "    </tr>\n",
       "    <tr>\n",
       "      <th>2</th>\n",
       "      <td>(rdf#type.rdfs#subClassOf.rdfs#subClassOf.rdf#...</td>\n",
       "      <td>(rdf#type.rdf#type)</td>\n",
       "      <td>(rdf#type.rdfs#subClassOf.rdfs#subClassOf.rdf#...</td>\n",
       "      <td>20.0</td>\n",
       "      <td>17.0</td>\n",
       "      <td>17.0</td>\n",
       "      <td>1.000000</td>\n",
       "      <td>0.050000</td>\n",
       "      <td>-323.0</td>\n",
       "      <td>inf</td>\n",
       "    </tr>\n",
       "    <tr>\n",
       "      <th>3</th>\n",
       "      <td>(rdf#type.rdf#type)</td>\n",
       "      <td>(rdf#type.rdfs#subClassOf.rdfs#subClassOf.rdf#...</td>\n",
       "      <td>(rdf#type.rdf#type)</td>\n",
       "      <td>17.0</td>\n",
       "      <td>20.0</td>\n",
       "      <td>17.0</td>\n",
       "      <td>1.000000</td>\n",
       "      <td>0.050000</td>\n",
       "      <td>-323.0</td>\n",
       "      <td>-106.666667</td>\n",
       "    </tr>\n",
       "    <tr>\n",
       "      <th>4</th>\n",
       "      <td>(rdf#type.rdfs#subClassOf.rdf#type)</td>\n",
       "      <td>(rdf#type.rdfs#subClassOf.rdfs#subClassOf.rdf#...</td>\n",
       "      <td>(rdf#type.rdfs#subClassOf.rdf#type)</td>\n",
       "      <td>17.0</td>\n",
       "      <td>20.0</td>\n",
       "      <td>17.0</td>\n",
       "      <td>0.850000</td>\n",
       "      <td>0.050000</td>\n",
       "      <td>-323.0</td>\n",
       "      <td>-106.666667</td>\n",
       "    </tr>\n",
       "    <tr>\n",
       "      <th>5</th>\n",
       "      <td>(rdf#type.rdfs#subClassOf.rdfs#subClassOf.rdf#...</td>\n",
       "      <td>(rdf#type.rdfs#subClassOf.rdf#type)</td>\n",
       "      <td>(rdf#type.rdfs#subClassOf.rdfs#subClassOf.rdf#...</td>\n",
       "      <td>20.0</td>\n",
       "      <td>17.0</td>\n",
       "      <td>17.0</td>\n",
       "      <td>1.000000</td>\n",
       "      <td>0.050000</td>\n",
       "      <td>-323.0</td>\n",
       "      <td>inf</td>\n",
       "    </tr>\n",
       "    <tr>\n",
       "      <th>6</th>\n",
       "      <td>(rdf#type.rdfs#subClassOf.rdfs#subClassOf)</td>\n",
       "      <td>(rdf#type.rdfs#subClassOf)</td>\n",
       "      <td>22.0</td>\n",
       "      <td>99.0</td>\n",
       "      <td>22.0</td>\n",
       "      <td>1.000000</td>\n",
       "      <td>0.010101</td>\n",
       "      <td>-2156.0</td>\n",
       "      <td>inf</td>\n",
       "    </tr>\n",
       "    <tr>\n",
       "      <th>7</th>\n",
       "      <td>(rdf#type.rdfs#subClassOf)</td>\n",
       "      <td>(rdf#type.rdfs#subClassOf.rdfs#subClassOf)</td>\n",
       "      <td>99.0</td>\n",
       "      <td>22.0</td>\n",
       "      <td>22.0</td>\n",
       "      <td>0.222222</td>\n",
       "      <td>0.010101</td>\n",
       "      <td>-2156.0</td>\n",
       "      <td>-27.000000</td>\n",
       "    </tr>\n",
       "  </tbody>\n",
       "</table>\n",
       "</div>"
      ],
      "text/plain": [
       "                                         antecedents  \\\n",
       "0                (rdf#type.rdfs#subClassOf.rdf#type)   \n",
       "1                                (rdf#type.rdf#type)   \n",
       "2  (rdf#type.rdfs#subClassOf.rdfs#subClassOf.rdf#...   \n",
       "3                                (rdf#type.rdf#type)   \n",
       "4                (rdf#type.rdfs#subClassOf.rdf#type)   \n",
       "5  (rdf#type.rdfs#subClassOf.rdfs#subClassOf.rdf#...   \n",
       "6         (rdf#type.rdfs#subClassOf.rdfs#subClassOf)   \n",
       "7                         (rdf#type.rdfs#subClassOf)   \n",
       "\n",
       "                                         consequents  antecedent support  \\\n",
       "0                                (rdf#type.rdf#type)                20.0   \n",
       "1                (rdf#type.rdfs#subClassOf.rdf#type)                20.0   \n",
       "2                                (rdf#type.rdf#type)                17.0   \n",
       "3  (rdf#type.rdfs#subClassOf.rdfs#subClassOf.rdf#...                20.0   \n",
       "4  (rdf#type.rdfs#subClassOf.rdfs#subClassOf.rdf#...                20.0   \n",
       "5                (rdf#type.rdfs#subClassOf.rdf#type)                17.0   \n",
       "6                         (rdf#type.rdfs#subClassOf)                22.0   \n",
       "7         (rdf#type.rdfs#subClassOf.rdfs#subClassOf)                99.0   \n",
       "\n",
       "   consequent support  support  confidence      lift  leverage  conviction  \n",
       "0                20.0     20.0    1.000000  0.050000    -380.0         inf  \n",
       "1                20.0     20.0    1.000000  0.050000    -380.0         inf  \n",
       "2                20.0     17.0    1.000000  0.050000    -323.0         inf  \n",
       "3                17.0     17.0    0.850000  0.050000    -323.0 -106.666667  \n",
       "4                17.0     17.0    0.850000  0.050000    -323.0 -106.666667  \n",
       "5                20.0     17.0    1.000000  0.050000    -323.0         inf  \n",
       "6                99.0     22.0    1.000000  0.010101   -2156.0         inf  \n",
       "7                22.0     22.0    0.222222  0.010101   -2156.0  -27.000000  "
      ]
     },
     "execution_count": 17,
     "metadata": {},
     "output_type": "execute_result"
    }
   ],
   "source": [
    "miner.support = 10\n",
    "miner.fit(X_train)"
   ]
  },
  {
   "cell_type": "markdown",
   "metadata": {
    "pycharm": {
     "name": "#%%\n"
    }
   },
   "source": [
    "The resulting table shows all mined rules for this simple example. <br>\n",
    "The confidence, lift and leverage measures can be used to further evaluate these mined rules."
   ]
  }
 ],
 "metadata": {
  "kernelspec": {
   "display_name": "Python 3",
   "language": "python",
   "name": "python3"
  },
  "language_info": {
   "codemirror_mode": {
    "name": "ipython",
    "version": 3
   },
   "file_extension": ".py",
   "mimetype": "text/x-python",
   "name": "python",
   "nbconvert_exporter": "python",
   "pygments_lexer": "ipython3",
   "version": "3.8.2"
  }
 },
 "nbformat": 4,
 "nbformat_minor": 1
}